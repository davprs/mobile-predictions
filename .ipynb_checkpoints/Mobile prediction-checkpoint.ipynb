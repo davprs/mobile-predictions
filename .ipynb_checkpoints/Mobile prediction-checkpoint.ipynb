{
 "cells": [
  {
   "cell_type": "markdown",
   "metadata": {},
   "source": [
    "## Progetto di Programmazione di Applicazioni Data Intensive a.a. 2019/20"
   ]
  },
  {
   "cell_type": "markdown",
   "metadata": {},
   "source": [
    "#### Librerie e Lettura Dataset da CSV"
   ]
  },
  {
   "cell_type": "code",
   "execution_count": 1,
   "metadata": {},
   "outputs": [],
   "source": [
    "import numpy as np\n",
    "import pandas as pd\n",
    "import matplotlib.pyplot as plt\n",
    "from ipywidgets import interact\n",
    "from sklearn.model_selection import train_test_split, GridSearchCV, StratifiedKFold\n",
    "from sklearn.preprocessing import StandardScaler, PolynomialFeatures\n",
    "from sklearn.pipeline import Pipeline\n",
    "from sklearn.linear_model import LogisticRegression, Perceptron, LinearRegression, Lasso, ElasticNet\n",
    "from sklearn.neural_network import MLPClassifier\n",
    "from sklearn.metrics import accuracy_score, f1_score, precision_score, recall_score, confusion_matrix, cohen_kappa_score\n",
    "from scipy.stats import norm\n",
    "%matplotlib inline\n",
    "pd.options.display.max_columns = 21\n",
    "\n",
    "# Credit: https://www.kaggle.com/iabhishekofficial/mobile-price-classification\n",
    "data_set = pd.read_csv(\"train.csv\")\n",
    "data_set_bool = pd.read_csv(\"train.csv\", dtype={'blue': 'bool',\n",
    "                                                'dual_sim': 'bool',\n",
    "                                                'four_g': 'bool',\n",
    "                                                'three_g': 'bool',\n",
    "                                                'touch_screen': 'bool',\n",
    "                                                'wifi': 'bool'})"
   ]
  },
  {
   "cell_type": "markdown",
   "metadata": {},
   "source": [
    "# Descrizione del problema\n",
    "\n",
    "Il problema da risolvere riguarda la predizione della fascia di prezzo di uno smartphone conoscendone le caratteristiche tecniche.\n",
    "In ogni riga del dataset proposto viene descritto uno smartphone attraverso 20 proprietà che verranno utilizzate come feature.\n",
    "Non ci sono condizioni per cui una colonna non possa essere considerata una feature."
   ]
  },
  {
   "cell_type": "code",
   "execution_count": 2,
   "metadata": {},
   "outputs": [
    {
     "data": {
      "text/html": [
       "<div>\n",
       "<style scoped>\n",
       "    .dataframe tbody tr th:only-of-type {\n",
       "        vertical-align: middle;\n",
       "    }\n",
       "\n",
       "    .dataframe tbody tr th {\n",
       "        vertical-align: top;\n",
       "    }\n",
       "\n",
       "    .dataframe thead th {\n",
       "        text-align: right;\n",
       "    }\n",
       "</style>\n",
       "<table border=\"1\" class=\"dataframe\">\n",
       "  <thead>\n",
       "    <tr style=\"text-align: right;\">\n",
       "      <th></th>\n",
       "      <th>battery_power</th>\n",
       "      <th>blue</th>\n",
       "      <th>clock_speed</th>\n",
       "      <th>dual_sim</th>\n",
       "      <th>fc</th>\n",
       "      <th>four_g</th>\n",
       "      <th>int_memory</th>\n",
       "      <th>m_dep</th>\n",
       "      <th>mobile_wt</th>\n",
       "      <th>n_cores</th>\n",
       "      <th>pc</th>\n",
       "      <th>px_height</th>\n",
       "      <th>px_width</th>\n",
       "      <th>ram</th>\n",
       "      <th>sc_h</th>\n",
       "      <th>sc_w</th>\n",
       "      <th>talk_time</th>\n",
       "      <th>three_g</th>\n",
       "      <th>touch_screen</th>\n",
       "      <th>wifi</th>\n",
       "      <th>price_range</th>\n",
       "    </tr>\n",
       "  </thead>\n",
       "  <tbody>\n",
       "    <tr>\n",
       "      <th>0</th>\n",
       "      <td>842</td>\n",
       "      <td>False</td>\n",
       "      <td>2.2</td>\n",
       "      <td>False</td>\n",
       "      <td>1</td>\n",
       "      <td>False</td>\n",
       "      <td>7</td>\n",
       "      <td>0.6</td>\n",
       "      <td>188</td>\n",
       "      <td>2</td>\n",
       "      <td>2</td>\n",
       "      <td>20</td>\n",
       "      <td>756</td>\n",
       "      <td>2549</td>\n",
       "      <td>9</td>\n",
       "      <td>7</td>\n",
       "      <td>19</td>\n",
       "      <td>False</td>\n",
       "      <td>False</td>\n",
       "      <td>True</td>\n",
       "      <td>1</td>\n",
       "    </tr>\n",
       "    <tr>\n",
       "      <th>1</th>\n",
       "      <td>1021</td>\n",
       "      <td>True</td>\n",
       "      <td>0.5</td>\n",
       "      <td>True</td>\n",
       "      <td>0</td>\n",
       "      <td>True</td>\n",
       "      <td>53</td>\n",
       "      <td>0.7</td>\n",
       "      <td>136</td>\n",
       "      <td>3</td>\n",
       "      <td>6</td>\n",
       "      <td>905</td>\n",
       "      <td>1988</td>\n",
       "      <td>2631</td>\n",
       "      <td>17</td>\n",
       "      <td>3</td>\n",
       "      <td>7</td>\n",
       "      <td>True</td>\n",
       "      <td>True</td>\n",
       "      <td>False</td>\n",
       "      <td>2</td>\n",
       "    </tr>\n",
       "    <tr>\n",
       "      <th>2</th>\n",
       "      <td>563</td>\n",
       "      <td>True</td>\n",
       "      <td>0.5</td>\n",
       "      <td>True</td>\n",
       "      <td>2</td>\n",
       "      <td>True</td>\n",
       "      <td>41</td>\n",
       "      <td>0.9</td>\n",
       "      <td>145</td>\n",
       "      <td>5</td>\n",
       "      <td>6</td>\n",
       "      <td>1263</td>\n",
       "      <td>1716</td>\n",
       "      <td>2603</td>\n",
       "      <td>11</td>\n",
       "      <td>2</td>\n",
       "      <td>9</td>\n",
       "      <td>True</td>\n",
       "      <td>True</td>\n",
       "      <td>False</td>\n",
       "      <td>2</td>\n",
       "    </tr>\n",
       "    <tr>\n",
       "      <th>3</th>\n",
       "      <td>615</td>\n",
       "      <td>True</td>\n",
       "      <td>2.5</td>\n",
       "      <td>False</td>\n",
       "      <td>0</td>\n",
       "      <td>False</td>\n",
       "      <td>10</td>\n",
       "      <td>0.8</td>\n",
       "      <td>131</td>\n",
       "      <td>6</td>\n",
       "      <td>9</td>\n",
       "      <td>1216</td>\n",
       "      <td>1786</td>\n",
       "      <td>2769</td>\n",
       "      <td>16</td>\n",
       "      <td>8</td>\n",
       "      <td>11</td>\n",
       "      <td>True</td>\n",
       "      <td>False</td>\n",
       "      <td>False</td>\n",
       "      <td>2</td>\n",
       "    </tr>\n",
       "    <tr>\n",
       "      <th>4</th>\n",
       "      <td>1821</td>\n",
       "      <td>True</td>\n",
       "      <td>1.2</td>\n",
       "      <td>False</td>\n",
       "      <td>13</td>\n",
       "      <td>True</td>\n",
       "      <td>44</td>\n",
       "      <td>0.6</td>\n",
       "      <td>141</td>\n",
       "      <td>2</td>\n",
       "      <td>14</td>\n",
       "      <td>1208</td>\n",
       "      <td>1212</td>\n",
       "      <td>1411</td>\n",
       "      <td>8</td>\n",
       "      <td>2</td>\n",
       "      <td>15</td>\n",
       "      <td>True</td>\n",
       "      <td>True</td>\n",
       "      <td>False</td>\n",
       "      <td>1</td>\n",
       "    </tr>\n",
       "  </tbody>\n",
       "</table>\n",
       "</div>"
      ],
      "text/plain": [
       "   battery_power   blue  clock_speed  dual_sim  fc  four_g  int_memory  m_dep  \\\n",
       "0            842  False          2.2     False   1   False           7    0.6   \n",
       "1           1021   True          0.5      True   0    True          53    0.7   \n",
       "2            563   True          0.5      True   2    True          41    0.9   \n",
       "3            615   True          2.5     False   0   False          10    0.8   \n",
       "4           1821   True          1.2     False  13    True          44    0.6   \n",
       "\n",
       "   mobile_wt  n_cores  pc  px_height  px_width   ram  sc_h  sc_w  talk_time  \\\n",
       "0        188        2   2         20       756  2549     9     7         19   \n",
       "1        136        3   6        905      1988  2631    17     3          7   \n",
       "2        145        5   6       1263      1716  2603    11     2          9   \n",
       "3        131        6   9       1216      1786  2769    16     8         11   \n",
       "4        141        2  14       1208      1212  1411     8     2         15   \n",
       "\n",
       "   three_g  touch_screen   wifi  price_range  \n",
       "0    False         False   True            1  \n",
       "1     True          True  False            2  \n",
       "2     True          True  False            2  \n",
       "3     True         False  False            2  \n",
       "4     True          True  False            1  "
      ]
     },
     "execution_count": 2,
     "metadata": {},
     "output_type": "execute_result"
    }
   ],
   "source": [
    "data_set_bool.head()"
   ]
  },
  {
   "cell_type": "markdown",
   "metadata": {},
   "source": [
    "Le features descritte rappresentano:\n",
    "- `battery_power`: capacità della batteria misurata in mAh \n",
    "- `blue`: presenza o assenza di Bluetooth \n",
    "- `clock_speed`: velocità del processore misurata in GHz\n",
    "- `dual_sim`: presenza o assenza di dual sim\n",
    "- `fc`: risoluzione della camera frontale misurata in Megapixels\n",
    "- `four_g`: presenza o assenza di 4G\n",
    "- `int_memory`: memoria interna misurata in GiB\n",
    "- `m_dep`: spessore misurato in cm \n",
    "- `mobile_wt`: peso dello smartphone misurato in grammi\n",
    "- `n_cores`: numero di core del processore\n",
    "- `pc`: risoluzione della camera posteriore misurata in Megapixels\n",
    "- `px_height`: risoluzione verticale misurata in pixels\n",
    "- `px_width`: risoluzione orizzontale misurata in pixels\n",
    "- `ram`: ram misurata in MiB\n",
    "- `sc_h`: altezza smartphone misurata in cm\n",
    "- `sc_w`: larghezza smartphone misurata in cm \n",
    "- `talk_time`: durata della batteria restando in chiamata misurata in ore\n",
    "- `three_g`: presenza o assenza di 3G\n",
    "- `touch_screen`: presenza o assenza di touch screen\n",
    "- `wifi`: presenza o assenza di wifi\n",
    "\n",
    "Alcune di queste feature sono booleane: quelle che contrassegnano la presenza o l'assenza di una certa caratteristica.\n",
    "\n",
    "Nel dataset sono presenti 2000 istanze di smartphone."
   ]
  },
  {
   "cell_type": "code",
   "execution_count": 3,
   "metadata": {},
   "outputs": [
    {
     "name": "stdout",
     "output_type": "stream",
     "text": [
      "2000\n"
     ]
    }
   ],
   "source": [
    "print(len(data_set))"
   ]
  },
  {
   "cell_type": "markdown",
   "metadata": {},
   "source": [
    "\n",
    "\n",
    "La variabile da predire è una variabile multiclasse le cui classi sono: \n",
    "- `0` : fascia di prezzo low cost\n",
    "- `1` : fascia di prezzo medium cost\n",
    "- `2` : fascia di prezzo high cost\n",
    "- `3` : fascia di prezzo very high cost"
   ]
  },
  {
   "cell_type": "code",
   "execution_count": 4,
   "metadata": {},
   "outputs": [
    {
     "name": "stdout",
     "output_type": "stream",
     "text": [
      "[0 1 2 3]\n"
     ]
    }
   ],
   "source": [
    "print(np.sort(data_set[\"price_range\"].unique()))"
   ]
  },
  {
   "cell_type": "markdown",
   "metadata": {},
   "source": [
    "# Analisi Esplorativa Dei Dati"
   ]
  },
  {
   "cell_type": "markdown",
   "metadata": {},
   "source": [
    "Distinzione tra feature e variabili da predire:"
   ]
  },
  {
   "cell_type": "code",
   "execution_count": 5,
   "metadata": {},
   "outputs": [],
   "source": [
    "X = data_set.drop(columns=\"price_range\")\n",
    "y = data_set[\"price_range\"]"
   ]
  },
  {
   "cell_type": "markdown",
   "metadata": {},
   "source": [
    "Visualizzando il grafico del numero di valori distinti per ciascuna classe si evince chiaramente che il numero di istanze delle classi è distribuito uniformemente, perciò le classi non sono sbilanciate."
   ]
  },
  {
   "cell_type": "code",
   "execution_count": 6,
   "metadata": {},
   "outputs": [
    {
     "data": {
      "image/png": "[encoded data removed]",
      "text/plain": [
       "<Figure size 432x288 with 1 Axes>"
      ]
     },
     "metadata": {},
     "output_type": "display_data"
    }
   ],
   "source": [
    "y.value_counts().plot.pie();"
   ]
  },
  {
   "cell_type": "markdown",
   "metadata": {},
   "source": [
    "Non sono presenti valori mancanti nel dataset e nessuna feature si comporta da identificatore."
   ]
  },
  {
   "cell_type": "code",
   "execution_count": 7,
   "metadata": {},
   "outputs": [
    {
     "name": "stdout",
     "output_type": "stream",
     "text": [
      "battery_power    0\n",
      "blue             0\n",
      "clock_speed      0\n",
      "dual_sim         0\n",
      "fc               0\n",
      "four_g           0\n",
      "int_memory       0\n",
      "m_dep            0\n",
      "mobile_wt        0\n",
      "n_cores          0\n",
      "pc               0\n",
      "px_height        0\n",
      "px_width         0\n",
      "ram              0\n",
      "sc_h             0\n",
      "sc_w             0\n",
      "talk_time        0\n",
      "three_g          0\n",
      "touch_screen     0\n",
      "wifi             0\n",
      "price_range      0\n",
      "dtype: int64\n"
     ]
    }
   ],
   "source": [
    "print(data_set.isna().sum())"
   ]
  },
  {
   "cell_type": "markdown",
   "metadata": {},
   "source": [
    "Numero di valori distinti di ciascuna feature escluse le feature booleane, per osservare la variabilità:"
   ]
  },
  {
   "cell_type": "code",
   "execution_count": 8,
   "metadata": {},
   "outputs": [
    {
     "data": {
      "text/html": [
       "<div>\n",
       "<style scoped>\n",
       "    .dataframe tbody tr th:only-of-type {\n",
       "        vertical-align: middle;\n",
       "    }\n",
       "\n",
       "    .dataframe tbody tr th {\n",
       "        vertical-align: top;\n",
       "    }\n",
       "\n",
       "    .dataframe thead th {\n",
       "        text-align: right;\n",
       "    }\n",
       "</style>\n",
       "<table border=\"1\" class=\"dataframe\">\n",
       "  <thead>\n",
       "    <tr style=\"text-align: right;\">\n",
       "      <th></th>\n",
       "      <th>Valori distinti</th>\n",
       "    </tr>\n",
       "    <tr>\n",
       "      <th>Feature</th>\n",
       "      <th></th>\n",
       "    </tr>\n",
       "  </thead>\n",
       "  <tbody>\n",
       "    <tr>\n",
       "      <th>battery_power</th>\n",
       "      <td>1094</td>\n",
       "    </tr>\n",
       "    <tr>\n",
       "      <th>clock_speed</th>\n",
       "      <td>26</td>\n",
       "    </tr>\n",
       "    <tr>\n",
       "      <th>fc</th>\n",
       "      <td>20</td>\n",
       "    </tr>\n",
       "    <tr>\n",
       "      <th>int_memory</th>\n",
       "      <td>63</td>\n",
       "    </tr>\n",
       "    <tr>\n",
       "      <th>m_dep</th>\n",
       "      <td>10</td>\n",
       "    </tr>\n",
       "    <tr>\n",
       "      <th>mobile_wt</th>\n",
       "      <td>121</td>\n",
       "    </tr>\n",
       "    <tr>\n",
       "      <th>n_cores</th>\n",
       "      <td>8</td>\n",
       "    </tr>\n",
       "    <tr>\n",
       "      <th>pc</th>\n",
       "      <td>21</td>\n",
       "    </tr>\n",
       "    <tr>\n",
       "      <th>px_height</th>\n",
       "      <td>1137</td>\n",
       "    </tr>\n",
       "    <tr>\n",
       "      <th>px_width</th>\n",
       "      <td>1109</td>\n",
       "    </tr>\n",
       "    <tr>\n",
       "      <th>ram</th>\n",
       "      <td>1562</td>\n",
       "    </tr>\n",
       "    <tr>\n",
       "      <th>sc_h</th>\n",
       "      <td>15</td>\n",
       "    </tr>\n",
       "    <tr>\n",
       "      <th>sc_w</th>\n",
       "      <td>19</td>\n",
       "    </tr>\n",
       "    <tr>\n",
       "      <th>talk_time</th>\n",
       "      <td>19</td>\n",
       "    </tr>\n",
       "  </tbody>\n",
       "</table>\n",
       "</div>"
      ],
      "text/plain": [
       "               Valori distinti\n",
       "Feature                       \n",
       "battery_power             1094\n",
       "clock_speed                 26\n",
       "fc                          20\n",
       "int_memory                  63\n",
       "m_dep                       10\n",
       "mobile_wt                  121\n",
       "n_cores                      8\n",
       "pc                          21\n",
       "px_height                 1137\n",
       "px_width                  1109\n",
       "ram                       1562\n",
       "sc_h                        15\n",
       "sc_w                        19\n",
       "talk_time                   19"
      ]
     },
     "execution_count": 8,
     "metadata": {},
     "output_type": "execute_result"
    }
   ],
   "source": [
    "pd.DataFrame([(c, len(X[c].unique())) for c in X.columns if (data_set_bool[c]).dtype !=\"bool\"],columns=[\"Feature\", \"Valori distinti\"]).set_index(\"Feature\")"
   ]
  },
  {
   "cell_type": "markdown",
   "metadata": {},
   "source": [
    "Descrizione di tutti gli attributi del dataset (media, deviazione standard, ecc..) di tutte le feature escluse quelle booleane che non sarebbero utili ai fini dell' analisi:"
   ]
  },
  {
   "cell_type": "code",
   "execution_count": 9,
   "metadata": {},
   "outputs": [
    {
     "data": {
      "text/html": [
       "<div>\n",
       "<style scoped>\n",
       "    .dataframe tbody tr th:only-of-type {\n",
       "        vertical-align: middle;\n",
       "    }\n",
       "\n",
       "    .dataframe tbody tr th {\n",
       "        vertical-align: top;\n",
       "    }\n",
       "\n",
       "    .dataframe thead th {\n",
       "        text-align: right;\n",
       "    }\n",
       "</style>\n",
       "<table border=\"1\" class=\"dataframe\">\n",
       "  <thead>\n",
       "    <tr style=\"text-align: right;\">\n",
       "      <th></th>\n",
       "      <th>battery_power</th>\n",
       "      <th>clock_speed</th>\n",
       "      <th>fc</th>\n",
       "      <th>int_memory</th>\n",
       "      <th>m_dep</th>\n",
       "      <th>mobile_wt</th>\n",
       "      <th>n_cores</th>\n",
       "      <th>pc</th>\n",
       "      <th>px_height</th>\n",
       "      <th>px_width</th>\n",
       "      <th>ram</th>\n",
       "      <th>sc_h</th>\n",
       "      <th>sc_w</th>\n",
       "      <th>talk_time</th>\n",
       "      <th>price_range</th>\n",
       "    </tr>\n",
       "  </thead>\n",
       "  <tbody>\n",
       "    <tr>\n",
       "      <th>count</th>\n",
       "      <td>2000.000000</td>\n",
       "      <td>2000.000000</td>\n",
       "      <td>2000.000000</td>\n",
       "      <td>2000.000000</td>\n",
       "      <td>2000.000000</td>\n",
       "      <td>2000.000000</td>\n",
       "      <td>2000.000000</td>\n",
       "      <td>2000.000000</td>\n",
       "      <td>2000.000000</td>\n",
       "      <td>2000.000000</td>\n",
       "      <td>2000.000000</td>\n",
       "      <td>2000.000000</td>\n",
       "      <td>2000.000000</td>\n",
       "      <td>2000.000000</td>\n",
       "      <td>2000.000000</td>\n",
       "    </tr>\n",
       "    <tr>\n",
       "      <th>mean</th>\n",
       "      <td>1238.518500</td>\n",
       "      <td>1.522250</td>\n",
       "      <td>4.309500</td>\n",
       "      <td>32.046500</td>\n",
       "      <td>0.501750</td>\n",
       "      <td>140.249000</td>\n",
       "      <td>4.520500</td>\n",
       "      <td>9.916500</td>\n",
       "      <td>645.108000</td>\n",
       "      <td>1251.515500</td>\n",
       "      <td>2124.213000</td>\n",
       "      <td>12.306500</td>\n",
       "      <td>5.767000</td>\n",
       "      <td>11.011000</td>\n",
       "      <td>1.500000</td>\n",
       "    </tr>\n",
       "    <tr>\n",
       "      <th>std</th>\n",
       "      <td>439.418206</td>\n",
       "      <td>0.816004</td>\n",
       "      <td>4.341444</td>\n",
       "      <td>18.145715</td>\n",
       "      <td>0.288416</td>\n",
       "      <td>35.399655</td>\n",
       "      <td>2.287837</td>\n",
       "      <td>6.064315</td>\n",
       "      <td>443.780811</td>\n",
       "      <td>432.199447</td>\n",
       "      <td>1084.732044</td>\n",
       "      <td>4.213245</td>\n",
       "      <td>4.356398</td>\n",
       "      <td>5.463955</td>\n",
       "      <td>1.118314</td>\n",
       "    </tr>\n",
       "    <tr>\n",
       "      <th>min</th>\n",
       "      <td>501.000000</td>\n",
       "      <td>0.500000</td>\n",
       "      <td>0.000000</td>\n",
       "      <td>2.000000</td>\n",
       "      <td>0.100000</td>\n",
       "      <td>80.000000</td>\n",
       "      <td>1.000000</td>\n",
       "      <td>0.000000</td>\n",
       "      <td>0.000000</td>\n",
       "      <td>500.000000</td>\n",
       "      <td>256.000000</td>\n",
       "      <td>5.000000</td>\n",
       "      <td>0.000000</td>\n",
       "      <td>2.000000</td>\n",
       "      <td>0.000000</td>\n",
       "    </tr>\n",
       "    <tr>\n",
       "      <th>25%</th>\n",
       "      <td>851.750000</td>\n",
       "      <td>0.700000</td>\n",
       "      <td>1.000000</td>\n",
       "      <td>16.000000</td>\n",
       "      <td>0.200000</td>\n",
       "      <td>109.000000</td>\n",
       "      <td>3.000000</td>\n",
       "      <td>5.000000</td>\n",
       "      <td>282.750000</td>\n",
       "      <td>874.750000</td>\n",
       "      <td>1207.500000</td>\n",
       "      <td>9.000000</td>\n",
       "      <td>2.000000</td>\n",
       "      <td>6.000000</td>\n",
       "      <td>0.750000</td>\n",
       "    </tr>\n",
       "    <tr>\n",
       "      <th>50%</th>\n",
       "      <td>1226.000000</td>\n",
       "      <td>1.500000</td>\n",
       "      <td>3.000000</td>\n",
       "      <td>32.000000</td>\n",
       "      <td>0.500000</td>\n",
       "      <td>141.000000</td>\n",
       "      <td>4.000000</td>\n",
       "      <td>10.000000</td>\n",
       "      <td>564.000000</td>\n",
       "      <td>1247.000000</td>\n",
       "      <td>2146.500000</td>\n",
       "      <td>12.000000</td>\n",
       "      <td>5.000000</td>\n",
       "      <td>11.000000</td>\n",
       "      <td>1.500000</td>\n",
       "    </tr>\n",
       "    <tr>\n",
       "      <th>75%</th>\n",
       "      <td>1615.250000</td>\n",
       "      <td>2.200000</td>\n",
       "      <td>7.000000</td>\n",
       "      <td>48.000000</td>\n",
       "      <td>0.800000</td>\n",
       "      <td>170.000000</td>\n",
       "      <td>7.000000</td>\n",
       "      <td>15.000000</td>\n",
       "      <td>947.250000</td>\n",
       "      <td>1633.000000</td>\n",
       "      <td>3064.500000</td>\n",
       "      <td>16.000000</td>\n",
       "      <td>9.000000</td>\n",
       "      <td>16.000000</td>\n",
       "      <td>2.250000</td>\n",
       "    </tr>\n",
       "    <tr>\n",
       "      <th>max</th>\n",
       "      <td>1998.000000</td>\n",
       "      <td>3.000000</td>\n",
       "      <td>19.000000</td>\n",
       "      <td>64.000000</td>\n",
       "      <td>1.000000</td>\n",
       "      <td>200.000000</td>\n",
       "      <td>8.000000</td>\n",
       "      <td>20.000000</td>\n",
       "      <td>1960.000000</td>\n",
       "      <td>1998.000000</td>\n",
       "      <td>3998.000000</td>\n",
       "      <td>19.000000</td>\n",
       "      <td>18.000000</td>\n",
       "      <td>20.000000</td>\n",
       "      <td>3.000000</td>\n",
       "    </tr>\n",
       "  </tbody>\n",
       "</table>\n",
       "</div>"
      ],
      "text/plain": [
       "       battery_power  clock_speed           fc   int_memory        m_dep  \\\n",
       "count    2000.000000  2000.000000  2000.000000  2000.000000  2000.000000   \n",
       "mean     1238.518500     1.522250     4.309500    32.046500     0.501750   \n",
       "std       439.418206     0.816004     4.341444    18.145715     0.288416   \n",
       "min       501.000000     0.500000     0.000000     2.000000     0.100000   \n",
       "25%       851.750000     0.700000     1.000000    16.000000     0.200000   \n",
       "50%      1226.000000     1.500000     3.000000    32.000000     0.500000   \n",
       "75%      1615.250000     2.200000     7.000000    48.000000     0.800000   \n",
       "max      1998.000000     3.000000    19.000000    64.000000     1.000000   \n",
       "\n",
       "         mobile_wt      n_cores           pc    px_height     px_width  \\\n",
       "count  2000.000000  2000.000000  2000.000000  2000.000000  2000.000000   \n",
       "mean    140.249000     4.520500     9.916500   645.108000  1251.515500   \n",
       "std      35.399655     2.287837     6.064315   443.780811   432.199447   \n",
       "min      80.000000     1.000000     0.000000     0.000000   500.000000   \n",
       "25%     109.000000     3.000000     5.000000   282.750000   874.750000   \n",
       "50%     141.000000     4.000000    10.000000   564.000000  1247.000000   \n",
       "75%     170.000000     7.000000    15.000000   947.250000  1633.000000   \n",
       "max     200.000000     8.000000    20.000000  1960.000000  1998.000000   \n",
       "\n",
       "               ram         sc_h         sc_w    talk_time  price_range  \n",
       "count  2000.000000  2000.000000  2000.000000  2000.000000  2000.000000  \n",
       "mean   2124.213000    12.306500     5.767000    11.011000     1.500000  \n",
       "std    1084.732044     4.213245     4.356398     5.463955     1.118314  \n",
       "min     256.000000     5.000000     0.000000     2.000000     0.000000  \n",
       "25%    1207.500000     9.000000     2.000000     6.000000     0.750000  \n",
       "50%    2146.500000    12.000000     5.000000    11.000000     1.500000  \n",
       "75%    3064.500000    16.000000     9.000000    16.000000     2.250000  \n",
       "max    3998.000000    19.000000    18.000000    20.000000     3.000000  "
      ]
     },
     "execution_count": 9,
     "metadata": {},
     "output_type": "execute_result"
    }
   ],
   "source": [
    "data_set_bool.describe()"
   ]
  },
  {
   "cell_type": "markdown",
   "metadata": {},
   "source": [
    "Grafico per la visualizzazione della distribuzione delle feature:"
   ]
  },
  {
   "cell_type": "code",
   "execution_count": 10,
   "metadata": {},
   "outputs": [
    {
     "data": {
      "application/vnd.jupyter.widget-view+json": {
       "model_id": "1ac1fdcadd14439180869d66d2fa956c",
       "version_major": 2,
       "version_minor": 0
      },
      "text/plain": [
       "interactive(children=(Dropdown(description='feature', options=('battery_power', 'blue', 'clock_speed', 'dual_s…"
      ]
     },
     "metadata": {},
     "output_type": "display_data"
    }
   ],
   "source": [
    "@interact(feature=data_set.columns, bins=(10,100,10))\n",
    "def value_counts(feature, bins):\n",
    "    data_set[feature].plot.hist(bins=bins);"
   ]
  },
  {
   "cell_type": "markdown",
   "metadata": {},
   "source": [
    "Analisi della correlazione tra le feature"
   ]
  },
  {
   "cell_type": "code",
   "execution_count": 11,
   "metadata": {},
   "outputs": [
    {
     "data": {
      "application/vnd.jupyter.widget-view+json": {
       "model_id": "98fa17c601fb4d589994707b139e80cc",
       "version_major": 2,
       "version_minor": 0
      },
      "text/plain": [
       "interactive(children=(Dropdown(description='feature1', index=17, options=('battery_power', 'blue', 'clock_spee…"
      ]
     },
     "metadata": {},
     "output_type": "display_data"
    }
   ],
   "source": [
    "def correlazione(f1, f2):\n",
    "    return np.mean((f1-f1.mean()) * (f2-f2.mean())) / (f1.std() * f2.std())\n",
    "\n",
    "@interact(feature1=data_set.columns, feature2=data_set.columns)\n",
    "def corr(feature1=\"three_g\", feature2=\"four_g\"):\n",
    "    print(\"Correlazione: \", correlazione(data_set[feature1], data_set[feature2]))"
   ]
  },
  {
   "cell_type": "markdown",
   "metadata": {},
   "source": [
    "Dai dati si nota che alla presenza del 4G è associata la presenza del 3G, mentre non è sempre vero il contrario. Questo calcolo permette una dimostrazione empirica. Infatti tutte le istanze con 4G hanno anche il 3G, mentre solo il 68% degli smartphone con 3G possiede anche il 4G."
   ]
  },
  {
   "cell_type": "code",
   "execution_count": 12,
   "metadata": {},
   "outputs": [
    {
     "data": {
      "text/plain": [
       "(1.0, 0.6848325673013789)"
      ]
     },
     "execution_count": 12,
     "metadata": {},
     "output_type": "execute_result"
    }
   ],
   "source": [
    "(data_set[\"four_g\"] @ data_set[\"three_g\"]) / data_set[\"four_g\"].sum(), (data_set[\"four_g\"] @ data_set[\"three_g\"]) / data_set[\"three_g\"].sum()"
   ]
  },
  {
   "cell_type": "markdown",
   "metadata": {},
   "source": [
    "Grafico a dispersione per visualizzare la correlazione tra le feature:"
   ]
  },
  {
   "cell_type": "code",
   "execution_count": 13,
   "metadata": {},
   "outputs": [
    {
     "data": {
      "application/vnd.jupyter.widget-view+json": {
       "model_id": "f3a0a26063154b89846667aa0b68853e",
       "version_major": 2,
       "version_minor": 0
      },
      "text/plain": [
       "interactive(children=(Dropdown(description='X', index=13, options=('battery_power', 'blue', 'clock_speed', 'du…"
      ]
     },
     "metadata": {},
     "output_type": "display_data"
    }
   ],
   "source": [
    "lut_colormap = {0:\"blue\", 1:\"red\", 2:\"green\", 3:\"violet\"}\n",
    "@interact(X=(data_set_bool.columns), Y=(data_set_bool.columns))\n",
    "def scatter(X=\"ram\", Y=\"price_range\"):\n",
    "    data_set.plot.scatter(X, Y, s=4, c=y.map(lut_colormap), figsize=(10,10))"
   ]
  },
  {
   "cell_type": "markdown",
   "metadata": {},
   "source": [
    "Si può notare come la RAM delinei in maniera abbastanza netta la divisione tra le classi, a differenza di altre feature."
   ]
  },
  {
   "cell_type": "code",
   "execution_count": 14,
   "metadata": {},
   "outputs": [
    {
     "data": {
      "image/png": "[encoded data removed]",
      "text/plain": [
       "<Figure size 432x288 with 1 Axes>"
      ]
     },
     "metadata": {
      "needs_background": "light"
     },
     "output_type": "display_data"
    }
   ],
   "source": [
    "data_set.pivot(columns=\"price_range\")[\"ram\"].plot.hist(bins=20, stacked=True);"
   ]
  },
  {
   "cell_type": "markdown",
   "metadata": {},
   "source": [
    "# Preprocessing dei Dati"
   ]
  },
  {
   "cell_type": "markdown",
   "metadata": {},
   "source": [
    "**Nota**: Siccome le classi sono definite da variabili intere, è stato scelto di utilizzare sia modelli di classificazione puri sia modelli di regressione che quindi possono predire la variabile arrotondando il valore predetto all'intero più vicino. Es. valore predetto: **0.56** => classe **1**"
   ]
  },
  {
   "cell_type": "markdown",
   "metadata": {},
   "source": [
    "### Divisione del dataset in training e validation set:"
   ]
  },
  {
   "cell_type": "code",
   "execution_count": 15,
   "metadata": {},
   "outputs": [],
   "source": [
    "X_train, X_val, y_train, y_val = train_test_split(X, y, test_size=1/3, random_state=1)"
   ]
  },
  {
   "cell_type": "markdown",
   "metadata": {},
   "source": [
    "La binarizzazione non può essere effettuata, perchè non è necessario applicarla sulle variabili booleane, mentre su quelle con molta variabilità come la **ram** sarebbe inefficiente in termini di spazio di memoria e di tempistiche computazionali."
   ]
  },
  {
   "cell_type": "markdown",
   "metadata": {},
   "source": [
    "### Standardizzazione delle Feature"
   ]
  },
  {
   "cell_type": "markdown",
   "metadata": {},
   "source": [
    "Considerando i valori di scala differenti a seconda della feature (ad esempio, ordine di migliaia nel caso di **battery power**, mentre ordine di unità nel caso di **n cores**), sarebbe consigliabile standardizzare i valori delle feature."
   ]
  },
  {
   "cell_type": "markdown",
   "metadata": {},
   "source": [
    "Abbiamo quindi modellato dapprima un Perceptron semplice e in seguito abbiamo modellato un Perceptron addestrandolo però sui valori standardizzati per osservare se effettivamente è consigliabile standardizzare le feature."
   ]
  },
  {
   "cell_type": "markdown",
   "metadata": {},
   "source": [
    "##### Perceptron semplice:"
   ]
  },
  {
   "cell_type": "code",
   "execution_count": 16,
   "metadata": {},
   "outputs": [
    {
     "name": "stdout",
     "output_type": "stream",
     "text": [
      "0.46026986506746626\n"
     ]
    }
   ],
   "source": [
    "model = Perceptron(random_state=1)\n",
    "model.fit(X_train, y_train);\n",
    "print(model.score(X_val, y_val))"
   ]
  },
  {
   "cell_type": "markdown",
   "metadata": {},
   "source": [
    "##### Perceptron con Standardizzazione:"
   ]
  },
  {
   "cell_type": "code",
   "execution_count": 17,
   "metadata": {},
   "outputs": [
    {
     "name": "stdout",
     "output_type": "stream",
     "text": [
      "0.7361319340329835\n"
     ]
    }
   ],
   "source": [
    "scaler = StandardScaler()\n",
    "fitted_X_train = scaler.fit_transform(X_train)\n",
    "fitted_X_val = scaler.transform(X_val)\n",
    "model = Perceptron(random_state=1)\n",
    "model.fit(fitted_X_train, y_train);\n",
    "print(model.score(fitted_X_val, y_val))"
   ]
  },
  {
   "cell_type": "markdown",
   "metadata": {},
   "source": [
    "Si può osservare come già addestrando il modello con dati standardizzati utilizzando TUTTE le feature, esso offre un risultato migliore."
   ]
  },
  {
   "cell_type": "markdown",
   "metadata": {},
   "source": [
    "### Individuazione delle feature più rilevanti:"
   ]
  },
  {
   "cell_type": "markdown",
   "metadata": {},
   "source": [
    "Abbiamo notato come però molte feature abbiano poca variabilità come **n cores** e tutte le variabili booleane, per questo motivo possiamo migliorare il modello considerando solo le feature più rilevanti. La regressione Lasso fa proprio ciò di cui abbiamo bisogno, andando a eliminare le feature meno rilevanti.\n",
    "Si osserva perciò che le feature più rilevanti sono **ram** e **battery power** e che tantissime delle feature siano state annullate come previsto."
   ]
  },
  {
   "cell_type": "code",
   "execution_count": 18,
   "metadata": {},
   "outputs": [
    {
     "name": "stdout",
     "output_type": "stream",
     "text": [
      "Lasso score:  0.9127832328808158\n"
     ]
    },
    {
     "data": {
      "text/html": [
       "<div>\n",
       "<style scoped>\n",
       "    .dataframe tbody tr th:only-of-type {\n",
       "        vertical-align: middle;\n",
       "    }\n",
       "\n",
       "    .dataframe tbody tr th {\n",
       "        vertical-align: top;\n",
       "    }\n",
       "\n",
       "    .dataframe thead th {\n",
       "        text-align: right;\n",
       "    }\n",
       "</style>\n",
       "<table border=\"1\" class=\"dataframe\">\n",
       "  <thead>\n",
       "    <tr style=\"text-align: right;\">\n",
       "      <th></th>\n",
       "      <th>Coeff</th>\n",
       "    </tr>\n",
       "  </thead>\n",
       "  <tbody>\n",
       "    <tr>\n",
       "      <th>ram</th>\n",
       "      <td>0.000948</td>\n",
       "    </tr>\n",
       "    <tr>\n",
       "      <th>int_memory</th>\n",
       "      <td>0.000849</td>\n",
       "    </tr>\n",
       "    <tr>\n",
       "      <th>battery_power</th>\n",
       "      <td>0.000508</td>\n",
       "    </tr>\n",
       "    <tr>\n",
       "      <th>px_height</th>\n",
       "      <td>0.000277</td>\n",
       "    </tr>\n",
       "    <tr>\n",
       "      <th>px_width</th>\n",
       "      <td>0.000261</td>\n",
       "    </tr>\n",
       "    <tr>\n",
       "      <th>touch_screen</th>\n",
       "      <td>-0.000000</td>\n",
       "    </tr>\n",
       "    <tr>\n",
       "      <th>three_g</th>\n",
       "      <td>0.000000</td>\n",
       "    </tr>\n",
       "    <tr>\n",
       "      <th>talk_time</th>\n",
       "      <td>-0.000000</td>\n",
       "    </tr>\n",
       "    <tr>\n",
       "      <th>sc_w</th>\n",
       "      <td>-0.000000</td>\n",
       "    </tr>\n",
       "    <tr>\n",
       "      <th>sc_h</th>\n",
       "      <td>0.000000</td>\n",
       "    </tr>\n",
       "    <tr>\n",
       "      <th>pc</th>\n",
       "      <td>0.000000</td>\n",
       "    </tr>\n",
       "    <tr>\n",
       "      <th>blue</th>\n",
       "      <td>-0.000000</td>\n",
       "    </tr>\n",
       "    <tr>\n",
       "      <th>n_cores</th>\n",
       "      <td>0.000000</td>\n",
       "    </tr>\n",
       "    <tr>\n",
       "      <th>m_dep</th>\n",
       "      <td>0.000000</td>\n",
       "    </tr>\n",
       "    <tr>\n",
       "      <th>four_g</th>\n",
       "      <td>0.000000</td>\n",
       "    </tr>\n",
       "    <tr>\n",
       "      <th>fc</th>\n",
       "      <td>0.000000</td>\n",
       "    </tr>\n",
       "    <tr>\n",
       "      <th>dual_sim</th>\n",
       "      <td>-0.000000</td>\n",
       "    </tr>\n",
       "    <tr>\n",
       "      <th>clock_speed</th>\n",
       "      <td>-0.000000</td>\n",
       "    </tr>\n",
       "    <tr>\n",
       "      <th>wifi</th>\n",
       "      <td>-0.000000</td>\n",
       "    </tr>\n",
       "    <tr>\n",
       "      <th>mobile_wt</th>\n",
       "      <td>-0.000762</td>\n",
       "    </tr>\n",
       "  </tbody>\n",
       "</table>\n",
       "</div>"
      ],
      "text/plain": [
       "                  Coeff\n",
       "ram            0.000948\n",
       "int_memory     0.000849\n",
       "battery_power  0.000508\n",
       "px_height      0.000277\n",
       "px_width       0.000261\n",
       "touch_screen  -0.000000\n",
       "three_g        0.000000\n",
       "talk_time     -0.000000\n",
       "sc_w          -0.000000\n",
       "sc_h           0.000000\n",
       "pc             0.000000\n",
       "blue          -0.000000\n",
       "n_cores        0.000000\n",
       "m_dep          0.000000\n",
       "four_g         0.000000\n",
       "fc             0.000000\n",
       "dual_sim      -0.000000\n",
       "clock_speed   -0.000000\n",
       "wifi          -0.000000\n",
       "mobile_wt     -0.000762"
      ]
     },
     "execution_count": 18,
     "metadata": {},
     "output_type": "execute_result"
    }
   ],
   "source": [
    "model = Lasso(alpha=0.1)\n",
    "model.fit(X_train, y_train)\n",
    "print(\"Lasso score: \", model.score(X_val, y_val))\n",
    "pd.DataFrame(model.coef_, index=X.columns, columns=[\"Coeff\"]).sort_values(\"Coeff\", ascending=False)"
   ]
  },
  {
   "cell_type": "markdown",
   "metadata": {},
   "source": [
    "### Features Polinomiali"
   ]
  },
  {
   "cell_type": "markdown",
   "metadata": {},
   "source": [
    "Ora proviamo ad aggiungere delle features polinomiali di grado 2 e 3, al fine di osservare il comportamento del modello aumentando il grado del polinomio."
   ]
  },
  {
   "cell_type": "code",
   "execution_count": 19,
   "metadata": {},
   "outputs": [
    {
     "name": "stdout",
     "output_type": "stream",
     "text": [
      "0.704647676161919\n"
     ]
    }
   ],
   "source": [
    "model = Pipeline([\n",
    "    (\"scale\", StandardScaler()),\n",
    "    (\"poly\", PolynomialFeatures(degree=1, include_bias=False)),\n",
    "    (\"regr\", Perceptron(random_state=42, n_jobs=-1))\n",
    "])\n",
    "model.fit(X_train, y_train);\n",
    "print(model.score(X_val, y_val))"
   ]
  },
  {
   "cell_type": "code",
   "execution_count": 20,
   "metadata": {},
   "outputs": [
    {
     "name": "stdout",
     "output_type": "stream",
     "text": [
      "0.8275862068965517\n"
     ]
    }
   ],
   "source": [
    "model = Pipeline([\n",
    "    (\"scale\", StandardScaler()),\n",
    "    (\"poly\", PolynomialFeatures(degree=2, include_bias=False)),\n",
    "    (\"regr\", Perceptron(random_state=42, n_jobs=-1))\n",
    "])\n",
    "model.fit(X_train, y_train);\n",
    "print(model.score(X_val, y_val))"
   ]
  },
  {
   "cell_type": "code",
   "execution_count": 21,
   "metadata": {},
   "outputs": [
    {
     "name": "stdout",
     "output_type": "stream",
     "text": [
      "0.6461769115442278\n"
     ]
    }
   ],
   "source": [
    "model = Pipeline([\n",
    "    (\"scale\", StandardScaler()),\n",
    "    (\"poly\", PolynomialFeatures(degree=3, include_bias=False)),\n",
    "    (\"regr\", Perceptron(random_state=42, n_jobs=-1))\n",
    "])\n",
    "model.fit(X_train, y_train);\n",
    "print(model.score(X_val, y_val))"
   ]
  },
  {
   "cell_type": "markdown",
   "metadata": {},
   "source": [
    "In questo caso, il grado 2 aumenta il punteggio del modello, rispetto a quello ottenuto con grado 1 (non vengono aggiunte feature polinomiali) e 3."
   ]
  },
  {
   "cell_type": "markdown",
   "metadata": {},
   "source": [
    "Invece utilizzando una Regressione Logistica, il grado del polinomio non contribuisce ad aumentare lo score."
   ]
  },
  {
   "cell_type": "code",
   "execution_count": 22,
   "metadata": {},
   "outputs": [
    {
     "name": "stdout",
     "output_type": "stream",
     "text": [
      "0.9385307346326837\n"
     ]
    }
   ],
   "source": [
    "model = Pipeline([\n",
    "    (\"scale\", StandardScaler()),\n",
    "    (\"poly\", PolynomialFeatures(degree=1,include_bias=False)),\n",
    "    (\"regr\", LogisticRegression(random_state=1, max_iter=1000, n_jobs=-1))\n",
    "])\n",
    "model.fit(X_train, y_train);\n",
    "print(model.score(X_val, y_val))"
   ]
  },
  {
   "cell_type": "code",
   "execution_count": 23,
   "metadata": {},
   "outputs": [
    {
     "name": "stdout",
     "output_type": "stream",
     "text": [
      "0.7976011994002998\n"
     ]
    }
   ],
   "source": [
    "model = Pipeline([\n",
    "    (\"scale\", StandardScaler()),\n",
    "    (\"poly\", PolynomialFeatures(degree=2,include_bias=False)),\n",
    "    (\"regr\", LogisticRegression(random_state=1, max_iter=1000, n_jobs=-1))\n",
    "])\n",
    "model.fit(X_train, y_train);\n",
    "print(model.score(X_val, y_val))"
   ]
  },
  {
   "cell_type": "markdown",
   "metadata": {},
   "source": [
    "## Ricerca modelli migliori attraverso GridSearch:"
   ]
  },
  {
   "cell_type": "markdown",
   "metadata": {},
   "source": [
    "La cross validation sarà effettuata su 3 strati in modo tale che la distribuzione delle classi sia uguale per tutti i fold."
   ]
  },
  {
   "cell_type": "code",
   "execution_count": 24,
   "metadata": {},
   "outputs": [],
   "source": [
    "skf = StratifiedKFold(3, shuffle=True, random_state=1)"
   ]
  },
  {
   "cell_type": "markdown",
   "metadata": {},
   "source": [
    "**Nota**: E' stato osservato che le feature polinomiali con grado 2 o superiore non offrono risultati con scores migliori rispetto al grado 1, quindi non saranno inserite nella Grid Search."
   ]
  },
  {
   "cell_type": "markdown",
   "metadata": {},
   "source": [
    "##### Modelli di Classificazione:"
   ]
  },
  {
   "cell_type": "markdown",
   "metadata": {},
   "source": [
    "Per trovare il modello migliore operiamo una GridSearch impostando una serie di iperparametri."
   ]
  },
  {
   "cell_type": "code",
   "execution_count": 25,
   "metadata": {},
   "outputs": [
    {
     "data": {
      "text/html": [
       "<div>\n",
       "<style scoped>\n",
       "    .dataframe tbody tr th:only-of-type {\n",
       "        vertical-align: middle;\n",
       "    }\n",
       "\n",
       "    .dataframe tbody tr th {\n",
       "        vertical-align: top;\n",
       "    }\n",
       "\n",
       "    .dataframe thead th {\n",
       "        text-align: right;\n",
       "    }\n",
       "</style>\n",
       "<table border=\"1\" class=\"dataframe\">\n",
       "  <thead>\n",
       "    <tr style=\"text-align: right;\">\n",
       "      <th></th>\n",
       "      <th>mean_fit_time</th>\n",
       "      <th>std_fit_time</th>\n",
       "      <th>mean_score_time</th>\n",
       "      <th>std_score_time</th>\n",
       "      <th>param_regr__C</th>\n",
       "      <th>param_regr__class_weight</th>\n",
       "      <th>param_regr__l1_ratio</th>\n",
       "      <th>param_regr__multi_class</th>\n",
       "      <th>param_regr__penalty</th>\n",
       "      <th>param_regr</th>\n",
       "      <th>param_regr__activation</th>\n",
       "      <th>param_regr__hidden_layer_sizes</th>\n",
       "      <th>params</th>\n",
       "      <th>split0_test_score</th>\n",
       "      <th>split1_test_score</th>\n",
       "      <th>split2_test_score</th>\n",
       "      <th>mean_test_score</th>\n",
       "      <th>std_test_score</th>\n",
       "      <th>rank_test_score</th>\n",
       "    </tr>\n",
       "  </thead>\n",
       "  <tbody>\n",
       "    <tr>\n",
       "      <th>125</th>\n",
       "      <td>3.246002</td>\n",
       "      <td>0.172421</td>\n",
       "      <td>0.001818</td>\n",
       "      <td>0.000467</td>\n",
       "      <td>NaN</td>\n",
       "      <td>NaN</td>\n",
       "      <td>NaN</td>\n",
       "      <td>NaN</td>\n",
       "      <td>NaN</td>\n",
       "      <td>MLPClassifier(activation='identity', alpha=0.0...</td>\n",
       "      <td>identity</td>\n",
       "      <td>(3, 6, 2)</td>\n",
       "      <td>{'regr': MLPClassifier(activation='identity', ...</td>\n",
       "      <td>0.975281</td>\n",
       "      <td>0.977477</td>\n",
       "      <td>0.966216</td>\n",
       "      <td>0.972992</td>\n",
       "      <td>0.004874</td>\n",
       "      <td>1</td>\n",
       "    </tr>\n",
       "    <tr>\n",
       "      <th>119</th>\n",
       "      <td>1.922970</td>\n",
       "      <td>0.066493</td>\n",
       "      <td>0.002812</td>\n",
       "      <td>0.000847</td>\n",
       "      <td>10</td>\n",
       "      <td>None</td>\n",
       "      <td>1</td>\n",
       "      <td>multinomial</td>\n",
       "      <td>elasticnet</td>\n",
       "      <td>NaN</td>\n",
       "      <td>NaN</td>\n",
       "      <td>NaN</td>\n",
       "      <td>{'regr__C': 10.0, 'regr__class_weight': None, ...</td>\n",
       "      <td>0.973034</td>\n",
       "      <td>0.968468</td>\n",
       "      <td>0.961712</td>\n",
       "      <td>0.967738</td>\n",
       "      <td>0.004651</td>\n",
       "      <td>2</td>\n",
       "    </tr>\n",
       "  </tbody>\n",
       "</table>\n",
       "</div>"
      ],
      "text/plain": [
       "     mean_fit_time  std_fit_time  mean_score_time  std_score_time  \\\n",
       "125       3.246002      0.172421         0.001818        0.000467   \n",
       "119       1.922970      0.066493         0.002812        0.000847   \n",
       "\n",
       "    param_regr__C param_regr__class_weight param_regr__l1_ratio  \\\n",
       "125           NaN                      NaN                  NaN   \n",
       "119            10                     None                    1   \n",
       "\n",
       "    param_regr__multi_class param_regr__penalty  \\\n",
       "125                     NaN                 NaN   \n",
       "119             multinomial          elasticnet   \n",
       "\n",
       "                                            param_regr param_regr__activation  \\\n",
       "125  MLPClassifier(activation='identity', alpha=0.0...               identity   \n",
       "119                                                NaN                    NaN   \n",
       "\n",
       "    param_regr__hidden_layer_sizes  \\\n",
       "125                      (3, 6, 2)   \n",
       "119                            NaN   \n",
       "\n",
       "                                                params  split0_test_score  \\\n",
       "125  {'regr': MLPClassifier(activation='identity', ...           0.975281   \n",
       "119  {'regr__C': 10.0, 'regr__class_weight': None, ...           0.973034   \n",
       "\n",
       "     split1_test_score  split2_test_score  mean_test_score  std_test_score  \\\n",
       "125           0.977477           0.966216         0.972992        0.004874   \n",
       "119           0.968468           0.961712         0.967738        0.004651   \n",
       "\n",
       "     rank_test_score  \n",
       "125                1  \n",
       "119                2  "
      ]
     },
     "execution_count": 25,
     "metadata": {},
     "output_type": "execute_result"
    }
   ],
   "source": [
    "model = Pipeline([\n",
    "    (\"scale\", StandardScaler()),\n",
    "    (\"regr\", LogisticRegression(solver=\"saga\", random_state=1, max_iter=1000))\n",
    "])\n",
    "grid=[{\n",
    "    \"regr__multi_class\": [\"ovr\", \"multinomial\"],\n",
    "    \"regr__penalty\": [\"elasticnet\"],\n",
    "    \"regr__C\": np.logspace(-1, 1, 3),\n",
    "    \"regr__l1_ratio\": np.linspace(0,1,10),\n",
    "    \"regr__class_weight\": [\"balanced\", None]\n",
    "},\n",
    "{\n",
    "    \"regr\": [MLPClassifier(random_state=1, max_iter=1000, batch_size=100)],\n",
    "    \"regr__activation\": [\"relu\", \"identity\"],\n",
    "    \"regr__hidden_layer_sizes\": [(100, ), (6, 6),(3,6,2)]\n",
    "}]\n",
    "gs = GridSearchCV(model, grid, cv=skf, n_jobs=-1)\n",
    "gs.fit(X_train, y_train)\n",
    "pd.DataFrame(gs.cv_results_).sort_values(\"rank_test_score\").head(2)"
   ]
  },
  {
   "cell_type": "markdown",
   "metadata": {},
   "source": [
    "Da qui estraiamo i 2 modelli migliori che sono di 2 tipologie diverse: LogisticRegression e MLP."
   ]
  },
  {
   "cell_type": "markdown",
   "metadata": {},
   "source": [
    "###### Modello LogisticRegression con mean test score più alto:"
   ]
  },
  {
   "cell_type": "code",
   "execution_count": 26,
   "metadata": {},
   "outputs": [
    {
     "name": "stdout",
     "output_type": "stream",
     "text": [
      "LogisticRegression Score: 0.9655172413793104\n"
     ]
    },
    {
     "name": "stderr",
     "output_type": "stream",
     "text": [
      "C:\\Users\\crisa\\anaconda3\\lib\\site-packages\\sklearn\\linear_model\\_sag.py:330: ConvergenceWarning: The max_iter was reached which means the coef_ did not converge\n",
      "  \"the coef_ did not converge\", ConvergenceWarning)\n"
     ]
    }
   ],
   "source": [
    "logistic_model = Pipeline([\n",
    "    (\"scale\", StandardScaler()),\n",
    "    (\"regr\", LogisticRegression(solver=\"saga\", random_state=1, multi_class=\"multinomial\", penalty=\"elasticnet\", l1_ratio=1, C=10, max_iter=1000))\n",
    "])\n",
    "logistic_model.fit(X_train, y_train)\n",
    "print(\"LogisticRegression Score:\", logistic_model.score(X_val, y_val))"
   ]
  },
  {
   "cell_type": "markdown",
   "metadata": {},
   "source": [
    "###### Modello MLP con mean test score più alto:"
   ]
  },
  {
   "cell_type": "code",
   "execution_count": 27,
   "metadata": {},
   "outputs": [
    {
     "name": "stdout",
     "output_type": "stream",
     "text": [
      "MLP Score: 0.9610194902548725\n"
     ]
    }
   ],
   "source": [
    "mlp_model = Pipeline([\n",
    "    (\"scale\", StandardScaler()),\n",
    "    (\"regr\", MLPClassifier(random_state=1, max_iter=1000, activation=\"identity\", batch_size=100, hidden_layer_sizes=(3,6,2)))\n",
    "])\n",
    "mlp_model.fit(X_train, y_train)\n",
    "print(\"MLP Score:\",mlp_model.score(X_val, y_val))"
   ]
  },
  {
   "cell_type": "markdown",
   "metadata": {},
   "source": [
    "A prima vista osservando gli score sul validation set dei 2 modelli migliori, tra i due il migliore sembra essere MLP."
   ]
  },
  {
   "cell_type": "markdown",
   "metadata": {},
   "source": [
    "##### Modello di Regressione:"
   ]
  },
  {
   "cell_type": "markdown",
   "metadata": {},
   "source": [
    "Ora proviamo ad addestrare un modello Lasso al fine di verificare se anche un modello di regressione è sufficiente per predire le classi in maniera soddisfacente."
   ]
  },
  {
   "cell_type": "code",
   "execution_count": 28,
   "metadata": {},
   "outputs": [
    {
     "name": "stdout",
     "output_type": "stream",
     "text": [
      "Lasso Score: 0.8790786519219116\n"
     ]
    }
   ],
   "source": [
    "regr_model = Pipeline([\n",
    "    (\"scale\", StandardScaler()),\n",
    "    (\"regr\", Lasso(alpha=0.1))\n",
    "])\n",
    "regr_model.fit(X_train, y_train)\n",
    "print(\"Lasso Score:\", regr_model.score(X_val, y_val))"
   ]
  },
  {
   "cell_type": "markdown",
   "metadata": {},
   "source": [
    "#### Abbiamo trovato 3 modelli: due di classificazione(Regressione Logistica e MLP) e un modello Lasso"
   ]
  },
  {
   "cell_type": "markdown",
   "metadata": {},
   "source": [
    "### Interpretazione degli iperparametri"
   ]
  },
  {
   "cell_type": "markdown",
   "metadata": {},
   "source": [
    "**Regressione Logistica**\n",
    "\n",
    "Dalla Regressione Logistica possiamo vedere facilmente i pesi associati a ciascuna feature."
   ]
  },
  {
   "cell_type": "code",
   "execution_count": 29,
   "metadata": {},
   "outputs": [
    {
     "data": {
      "text/html": [
       "<div>\n",
       "<style scoped>\n",
       "    .dataframe tbody tr th:only-of-type {\n",
       "        vertical-align: middle;\n",
       "    }\n",
       "\n",
       "    .dataframe tbody tr th {\n",
       "        vertical-align: top;\n",
       "    }\n",
       "\n",
       "    .dataframe thead th {\n",
       "        text-align: right;\n",
       "    }\n",
       "</style>\n",
       "<table border=\"1\" class=\"dataframe\">\n",
       "  <thead>\n",
       "    <tr style=\"text-align: right;\">\n",
       "      <th></th>\n",
       "      <th>Peso</th>\n",
       "    </tr>\n",
       "  </thead>\n",
       "  <tbody>\n",
       "    <tr>\n",
       "      <th>ram</th>\n",
       "      <td>-47.523655</td>\n",
       "    </tr>\n",
       "    <tr>\n",
       "      <th>battery_power</th>\n",
       "      <td>-11.615802</td>\n",
       "    </tr>\n",
       "    <tr>\n",
       "      <th>px_height</th>\n",
       "      <td>-6.857660</td>\n",
       "    </tr>\n",
       "    <tr>\n",
       "      <th>px_width</th>\n",
       "      <td>-6.745954</td>\n",
       "    </tr>\n",
       "    <tr>\n",
       "      <th>int_memory</th>\n",
       "      <td>-1.036301</td>\n",
       "    </tr>\n",
       "    <tr>\n",
       "      <th>pc</th>\n",
       "      <td>-0.469395</td>\n",
       "    </tr>\n",
       "    <tr>\n",
       "      <th>n_cores</th>\n",
       "      <td>-0.444555</td>\n",
       "    </tr>\n",
       "    <tr>\n",
       "      <th>m_dep</th>\n",
       "      <td>-0.220045</td>\n",
       "    </tr>\n",
       "    <tr>\n",
       "      <th>three_g</th>\n",
       "      <td>-0.071486</td>\n",
       "    </tr>\n",
       "    <tr>\n",
       "      <th>sc_h</th>\n",
       "      <td>-0.059130</td>\n",
       "    </tr>\n",
       "    <tr>\n",
       "      <th>clock_speed</th>\n",
       "      <td>0.000005</td>\n",
       "    </tr>\n",
       "    <tr>\n",
       "      <th>dual_sim</th>\n",
       "      <td>0.104871</td>\n",
       "    </tr>\n",
       "    <tr>\n",
       "      <th>touch_screen</th>\n",
       "      <td>0.164650</td>\n",
       "    </tr>\n",
       "    <tr>\n",
       "      <th>fc</th>\n",
       "      <td>0.173847</td>\n",
       "    </tr>\n",
       "    <tr>\n",
       "      <th>four_g</th>\n",
       "      <td>0.180214</td>\n",
       "    </tr>\n",
       "    <tr>\n",
       "      <th>sc_w</th>\n",
       "      <td>0.205458</td>\n",
       "    </tr>\n",
       "    <tr>\n",
       "      <th>blue</th>\n",
       "      <td>0.309859</td>\n",
       "    </tr>\n",
       "    <tr>\n",
       "      <th>talk_time</th>\n",
       "      <td>0.476031</td>\n",
       "    </tr>\n",
       "    <tr>\n",
       "      <th>wifi</th>\n",
       "      <td>0.807845</td>\n",
       "    </tr>\n",
       "    <tr>\n",
       "      <th>mobile_wt</th>\n",
       "      <td>1.779305</td>\n",
       "    </tr>\n",
       "  </tbody>\n",
       "</table>\n",
       "</div>"
      ],
      "text/plain": [
       "                    Peso\n",
       "ram           -47.523655\n",
       "battery_power -11.615802\n",
       "px_height      -6.857660\n",
       "px_width       -6.745954\n",
       "int_memory     -1.036301\n",
       "pc             -0.469395\n",
       "n_cores        -0.444555\n",
       "m_dep          -0.220045\n",
       "three_g        -0.071486\n",
       "sc_h           -0.059130\n",
       "clock_speed     0.000005\n",
       "dual_sim        0.104871\n",
       "touch_screen    0.164650\n",
       "fc              0.173847\n",
       "four_g          0.180214\n",
       "sc_w            0.205458\n",
       "blue            0.309859\n",
       "talk_time       0.476031\n",
       "wifi            0.807845\n",
       "mobile_wt       1.779305"
      ]
     },
     "execution_count": 29,
     "metadata": {},
     "output_type": "execute_result"
    }
   ],
   "source": [
    "pd.DataFrame(logistic_model.named_steps.regr.coef_[0], index = X_train.columns, columns=[\"Peso\"]).sort_values(\"Peso\")"
   ]
  },
  {
   "cell_type": "markdown",
   "metadata": {},
   "source": [
    "##### Viene confermato che la RAM e la capacità della batteria sono le feature più rilevanti."
   ]
  },
  {
   "cell_type": "markdown",
   "metadata": {},
   "source": [
    "L'iperparametro **C** ha valore abbastanza alto, perciò la regolarizzazione è molto forte.\n",
    "\n",
    "Siccome è stato scelto come iperparametro **multinomial**, la funzione d'errore viene minimizzata su tutti gli iperpiani, e non separatamente.\n",
    "\n",
    "Il peso di ciascuna classe è leggermente non uniformata poichè lo split è casuale rispetto al numero di instanze delle classi in ciascun strato.\n",
    "\n",
    "A differenza dell'iperparametro **balanced** dove sarebbero stati [1, 1, 1, 1], in realtà i pesi sono: "
   ]
  },
  {
   "cell_type": "code",
   "execution_count": 30,
   "metadata": {},
   "outputs": [
    {
     "name": "stdout",
     "output_type": "stream",
     "text": [
      "[0.95214286 1.00984848 1.04795597 0.99477612]\n"
     ]
    }
   ],
   "source": [
    "print(len(X_train) / (4 * np.bincount(y_train)))"
   ]
  },
  {
   "cell_type": "markdown",
   "metadata": {},
   "source": [
    "**MLP** "
   ]
  },
  {
   "cell_type": "markdown",
   "metadata": {},
   "source": [
    "Questo modello possiede 3 livelli di rete nascosti, in questo caso più efficienti rispetto a un singolo o duplice livello.\n",
    "\n",
    "La funzione d'attivazione è la funzione identità."
   ]
  },
  {
   "cell_type": "markdown",
   "metadata": {},
   "source": [
    "**Lasso**"
   ]
  },
  {
   "cell_type": "markdown",
   "metadata": {},
   "source": [
    "La regolarizzazione applicata con **alpha**=0.1 è molto efficace ed elimina molte feature considerate irrilevanti."
   ]
  },
  {
   "cell_type": "markdown",
   "metadata": {},
   "source": [
    "## Valutazione dei modelli"
   ]
  },
  {
   "cell_type": "markdown",
   "metadata": {},
   "source": [
    "Nei problemi di classificazione l'accuratezza dei modelli si può verificare controllando l'esattezza della predizione delle classi (**accuracy**).\n",
    "\n",
    "Altri criteri di valutazione molto usati sono **confusion matrix**, **precision**, **recall** e **F1 Measure**.\n",
    "\n",
    "Inoltre, per confrontare i nostri modelli con un modello Casuale, abbiamo deciso di utilizzare il **Kappa Score**, il quale va a confrontare le accuratezze delle predizioni con delle accuratezze di predizioni casuali.\n",
    "\n",
    "Per valutare il modello di regressione Lasso, arrotondiamo i valori predetti all'identificativo della classe più vicina.\n",
    "Oltretutto, aggiungiamo anche la valutazione **R2** e **RMSE** entrambe arrotondate.\n"
   ]
  },
  {
   "cell_type": "code",
   "execution_count": 31,
   "metadata": {},
   "outputs": [
    {
     "data": {
      "application/vnd.jupyter.widget-view+json": {
       "model_id": "c93b5ddfc71f42cf9dbb401461b662ef",
       "version_major": 2,
       "version_minor": 0
      },
      "text/plain": [
       "interactive(children=(Dropdown(description='Modello', options=('LogisticRegression', 'MLP', 'Lasso'), value='L…"
      ]
     },
     "metadata": {},
     "output_type": "display_data"
    }
   ],
   "source": [
    "def rounded_r2(true, predictions):\n",
    "    return 1 - ((((true - predictions.round()) **2).sum()) / ((true - true.mean()) ** 2).sum())\n",
    "def rounded_rmse(true, predictions):\n",
    "    return np.sqrt(np.mean(np.square(predictions.round() - true)))\n",
    "model_dict = {\n",
    "    \"LogisticRegression\": logistic_model,\n",
    "    \"MLP\": mlp_model,\n",
    "    \"Lasso\": regr_model\n",
    "}\n",
    "@interact(Modello=model_dict.keys())\n",
    "def print_scores(Modello):\n",
    "    model = model_dict.get(Modello)\n",
    "    y_pred = model.predict(X_val).round()\n",
    "    print(\"Precision score: \\t\", precision_score(y_val, y_pred, average=None)) #precisione di ciascuna classe\n",
    "    print(\"Mean precision score: \\t\", precision_score(y_val, y_pred, average=\"micro\"))\n",
    "    print(\"Recall score: \\t\\t\", recall_score(y_val, y_pred, average=None))\n",
    "    print(\"Mean recall score: \\t\", recall_score(y_val, y_pred, average=\"micro\"))\n",
    "    print(\"F1 score: \\t\\t\", f1_score(y_val, y_pred, average=None))\n",
    "    print(\"Mean F1 score: \\t\\t\", f1_score(y_val, y_pred, average=\"micro\"))\n",
    "    print(\"Kappa score: \\t\\t\", cohen_kappa_score(y_val, y_pred))\n",
    "    print(\"Accuracy: \\t\\t\", accuracy_score(y_val, y_pred))\n",
    "    print(\"R2 score: \\t\\t\", rounded_r2(y_val, y_pred))\n",
    "    print(\"RMSE score: \\t\\t\", rounded_rmse(y_val, y_pred))\n",
    "    cm = confusion_matrix(y_val, y_pred)\n",
    "    print(\"\\nConfusion Matrix:\")\n",
    "    return pd.DataFrame(cm, index=logistic_model.classes_, columns=logistic_model.classes_)"
   ]
  },
  {
   "cell_type": "markdown",
   "metadata": {},
   "source": [
    "#### Verifica differenza significativa tra i diversi modelli ###"
   ]
  },
  {
   "cell_type": "markdown",
   "metadata": {},
   "source": [
    "Ora andiamo a verificare se le differenze tra le diverse coppie di modelli siano significative con una certezza pari al livello di confidenza, confrontando l'accuratezza dei modelli."
   ]
  },
  {
   "cell_type": "code",
   "execution_count": 32,
   "metadata": {
    "scrolled": true
   },
   "outputs": [
    {
     "data": {
      "application/vnd.jupyter.widget-view+json": {
       "model_id": "6874b785fe404559b38bd6429710f915",
       "version_major": 2,
       "version_minor": 0
      },
      "text/plain": [
       "interactive(children=(Dropdown(description='n1', options=('LogisticRegression', 'MLP', 'Lasso'), value='Logist…"
      ]
     },
     "metadata": {},
     "output_type": "display_data"
    }
   ],
   "source": [
    "def diff_interval(a1, a2, N1, N2, Z=1.96):\n",
    "    std = np.sqrt((a1 *(1-a1))/ N1 + (a2 * (1-a2))/N2)\n",
    "    d = abs(a1-a2)\n",
    "    return d - Z * std, d + Z * std\n",
    "\n",
    "def model_diff_interval(n1,n2,m1, m2, X, y, level=0.95): #se lo zero non è nell intervallo il modello con score maggiore è il migliore\n",
    "    a1 = accuracy_score(y, m1.predict(X).round())\n",
    "    a2 = accuracy_score(y, m2.predict(X).round())\n",
    "    print(\"{}: {}\\n{}: {}\".format(n1,a1,n2, a2))\n",
    "    N1 = len(X)\n",
    "    N2 = N1\n",
    "    Z = norm.ppf((1 + level)/2)\n",
    "    diff = diff_interval(a1, a2, N1, N2, Z)\n",
    "    print(\"Intervallo: {} \\nDifferenza {}Significativa\".format(diff, \"NON \" if diff[0] < 0 else \"\"))\n",
    "    \n",
    "@interact(n1=model_dict.keys(), n2=model_dict.keys(), level=(0,1,0.05))\n",
    "def diff(n1,n2=\"Lasso\", level=0.95):\n",
    "    model_diff_interval(n1,n2, model_dict.get(n1), model_dict.get(n2), X_val, y_val, level)"
   ]
  },
  {
   "cell_type": "markdown",
   "metadata": {},
   "source": [
    "Successivamente riportiamo i coefficienti complessivi del modello MLPClassifier"
   ]
  },
  {
   "cell_type": "code",
   "execution_count": 33,
   "metadata": {
    "scrolled": false
   },
   "outputs": [
    {
     "data": {
      "application/vnd.jupyter.widget-view+json": {
       "model_id": "1301df485887496486ccf1a9cbf85b38",
       "version_major": 2,
       "version_minor": 0
      },
      "text/plain": [
       "interactive(children=(IntSlider(value=5, description='size', max=20, min=1), Output()), _dom_classes=('widget-…"
      ]
     },
     "metadata": {},
     "output_type": "display_data"
    }
   ],
   "source": [
    "inter = mlp_model.named_steps.regr.intercepts_\n",
    "coef = mlp_model.named_steps.regr.coefs_\n",
    "prod_coefs = coef[0] @ coef[1] @ coef[2] @ coef[3]\n",
    "\n",
    "intercept_sums = coef[3].T @ ((inter[0] @ coef[1] @ coef[2]) + inter[1] @ coef[2] + inter[2]) + inter[3]\n",
    "values = list(enumerate(abs(prod_coefs).sum(axis=1)))\n",
    "sorted_values = sorted(values, key=lambda x:x[1], reverse=True)\n",
    "\n",
    "@interact(size=(1, len(sorted_values), 1))\n",
    "def getDF(size=5):\n",
    "    labels = []\n",
    "    pesi = []\n",
    "    \n",
    "    for record in sorted_values[:size]:\n",
    "        pesi.append(prod_coefs[record[0]])\n",
    "        labels.append(X_val.columns[record[0]])\n",
    "\n",
    "\n",
    "    df = pd.DataFrame(pesi , index = labels, columns=[\"coef classe 0\", \"coef classe 1\", \"coef classe 2\", \"coef classe 3\"])\n",
    "    df.insert(0, \"rank\", range(1, size + 1))\n",
    "    return df"
   ]
  },
  {
   "cell_type": "code",
   "execution_count": 34,
   "metadata": {},
   "outputs": [
    {
     "data": {
      "text/html": [
       "<div>\n",
       "<style scoped>\n",
       "    .dataframe tbody tr th:only-of-type {\n",
       "        vertical-align: middle;\n",
       "    }\n",
       "\n",
       "    .dataframe tbody tr th {\n",
       "        vertical-align: top;\n",
       "    }\n",
       "\n",
       "    .dataframe thead th {\n",
       "        text-align: right;\n",
       "    }\n",
       "</style>\n",
       "<table border=\"1\" class=\"dataframe\">\n",
       "  <thead>\n",
       "    <tr style=\"text-align: right;\">\n",
       "      <th></th>\n",
       "      <th>intercette</th>\n",
       "    </tr>\n",
       "  </thead>\n",
       "  <tbody>\n",
       "    <tr>\n",
       "      <th>classe 0</th>\n",
       "      <td>-14.177027</td>\n",
       "    </tr>\n",
       "    <tr>\n",
       "      <th>classe 1</th>\n",
       "      <td>8.087888</td>\n",
       "    </tr>\n",
       "    <tr>\n",
       "      <th>classe 2</th>\n",
       "      <td>7.704582</td>\n",
       "    </tr>\n",
       "    <tr>\n",
       "      <th>classe 3</th>\n",
       "      <td>-25.091227</td>\n",
       "    </tr>\n",
       "  </tbody>\n",
       "</table>\n",
       "</div>"
      ],
      "text/plain": [
       "          intercette\n",
       "classe 0  -14.177027\n",
       "classe 1    8.087888\n",
       "classe 2    7.704582\n",
       "classe 3  -25.091227"
      ]
     },
     "execution_count": 34,
     "metadata": {},
     "output_type": "execute_result"
    }
   ],
   "source": [
    "df = pd.DataFrame(intercept_sums, columns=[\"intercette\"], index=[\"classe 0\", \"classe 1\", \"classe 2\", \"classe 3\"])\n",
    "df"
   ]
  },
  {
   "cell_type": "markdown",
   "metadata": {},
   "source": [
    "Verifichiamo che coefficienti ed intercette così ricavate diano lo stesso risultato del modello MLP"
   ]
  },
  {
   "cell_type": "code",
   "execution_count": 35,
   "metadata": {},
   "outputs": [
    {
     "name": "stdout",
     "output_type": "stream",
     "text": [
      "Predizioni giuste: 667/667\n"
     ]
    }
   ],
   "source": [
    "my_predictions = (mlp_model.named_steps.scale.transform(X_val) @ prod_coefs + intercept_sums).argmax(axis=1)\n",
    "print(\"Predizioni giuste: {}/{}\".format((mlp_model.predict(X_val) == my_predictions).sum(), len(X_val)))"
   ]
  },
  {
   "cell_type": "markdown",
   "metadata": {},
   "source": [
    "Visualizzazione bidimensionale applicata come visto a lezione:"
   ]
  },
  {
   "cell_type": "code",
   "execution_count": 36,
   "metadata": {},
   "outputs": [
    {
     "data": {
      "application/vnd.jupyter.widget-view+json": {
       "model_id": "765b5905d029478787450b6b0bf41c99",
       "version_major": 2,
       "version_minor": 0
      },
      "text/plain": [
       "interactive(children=(Output(),), _dom_classes=('widget-interact',))"
      ]
     },
     "metadata": {},
     "output_type": "display_data"
    }
   ],
   "source": [
    "@interact()\n",
    "def H_val():\n",
    "    model = mlp_model.named_steps.regr\n",
    "    X_val_np = mlp_model.named_steps.scale.transform(X_val)\n",
    "\n",
    "    H_val = X_val_np @ model.coefs_[0] + model.intercepts_[0]\n",
    "    for level in range(1, len(model.hidden_layer_sizes)):\n",
    "        H_val = H_val @ model.coefs_[level] + model.intercepts_[level]\n",
    "\n",
    "    plt.scatter(*H_val.T, s=2, c=y_val.map(lut_colormap).to_numpy())\n",
    "    xlim, ylim = plt.xlim(), plt.ylim()\n",
    "    sep_x = np.linspace(*xlim, 2)\n",
    "    for i in range(4):\n",
    "        w = model.coefs_[len(model.hidden_layer_sizes)].T[i] #trasforma la matrice in un array\n",
    "        b = model.intercepts_[len(model.hidden_layer_sizes)][i]\n",
    "        sep_y = -w[0]/w[1]*sep_x -b/w[1]\n",
    "        plt.plot(sep_x, sep_y, lw=1, c=lut_colormap[i]);\n",
    "        # ricavo pesi e bias dell'ultimo strato della rete\n",
    "\n",
    "    # estraggo campioni di punti dell'iperpiano e lo disegno\n",
    "    plt.xlim(xlim); plt.ylim(ylim);"
   ]
  },
  {
   "cell_type": "markdown",
   "metadata": {},
   "source": [
    "# Conclusioni"
   ]
  },
  {
   "cell_type": "markdown",
   "metadata": {},
   "source": [
    "A fine analisi, si osserva che il modello di regressione Lasso è il peggiore dei modelli trovati, poichè non è un modello di classificazione puro e quindi non si addestra al meglio sui dati in input. Al contrario i modelli di classificazione hanno punteggi migliori. Basandoci sui vari scores che si possono calcolare sui valori predetti sembra essere migliore il modello di Regressione Logistica, ma abbiamo constatato che non esiste una differenza significativa con il MultiLayerPerceptron da un certo livello di confidenza in avanti."
   ]
  }
 ],
 "metadata": {
  "kernelspec": {
   "display_name": "Python 3",
   "language": "python",
   "name": "python3"
  },
  "language_info": {
   "codemirror_mode": {
    "name": "ipython",
    "version": 3
   },
   "file_extension": ".py",
   "mimetype": "text/x-python",
   "name": "python",
   "nbconvert_exporter": "python",
   "pygments_lexer": "ipython3",
   "version": "3.7.6"
  }
 },
 "nbformat": 4,
 "nbformat_minor": 4
}
